{
 "cells": [
  {
   "cell_type": "markdown",
   "metadata": {},
   "source": [
    "# Introduction"
   ]
  },
  {
   "attachments": {},
   "cell_type": "markdown",
   "metadata": {},
   "source": [
    "This notebook shows that the weaviate spark connector works."
   ]
  },
  {
   "attachments": {},
   "cell_type": "markdown",
   "metadata": {},
   "source": [
    "# Imports"
   ]
  },
  {
   "cell_type": "code",
   "execution_count": 1,
   "metadata": {},
   "outputs": [],
   "source": [
    "from pyspark.sql import SparkSession\n",
    "import pandas as pd\n",
    "import numpy as np\n",
    "import os\n",
    "import weaviate\n",
    "import uuid"
   ]
  },
  {
   "cell_type": "markdown",
   "metadata": {},
   "source": [
    "# Setup"
   ]
  },
  {
   "cell_type": "code",
   "execution_count": 2,
   "metadata": {},
   "outputs": [
    {
     "name": "stderr",
     "output_type": "stream",
     "text": [
      "/usr/local/lib/python3.11/site-packages/pyspark/sql/pandas/utils.py:37: DeprecationWarning: distutils Version classes are deprecated. Use packaging.version instead.\n",
      "  if LooseVersion(pandas.__version__) < LooseVersion(minimum_pandas_version):\n",
      "/usr/local/lib/python3.11/site-packages/pyspark/sql/pandas/utils.py:64: DeprecationWarning: distutils Version classes are deprecated. Use packaging.version instead.\n",
      "  if LooseVersion(pyarrow.__version__) < LooseVersion(minimum_pyarrow_version):\n",
      "/usr/local/lib/python3.11/site-packages/pyspark/sql/connect/utils.py:50: DeprecationWarning: distutils Version classes are deprecated. Use packaging.version instead.\n",
      "  if LooseVersion(grpc.__version__) < LooseVersion(minimum_grpc_version):\n"
     ]
    }
   ],
   "source": [
    "spark = SparkSession.builder.remote(\"sc://spark:15002\").getOrCreate()"
   ]
  },
  {
   "cell_type": "code",
   "execution_count": 3,
   "metadata": {},
   "outputs": [],
   "source": [
    "client = weaviate.Client(\"http://weaviate:8080\")\n",
    "client.schema.delete_all()"
   ]
  },
  {
   "cell_type": "markdown",
   "metadata": {},
   "source": [
    "# Demo"
   ]
  },
  {
   "attachments": {},
   "cell_type": "markdown",
   "metadata": {},
   "source": [
    "Create some data:"
   ]
  },
  {
   "cell_type": "code",
   "execution_count": 4,
   "metadata": {},
   "outputs": [
    {
     "name": "stdout",
     "output_type": "stream",
     "text": [
      "+--------------------+--------------------+-------------------+--------------------+--------------------+\n",
      "|                  id|               title|             author|         description|              vector|\n",
      "+--------------------+--------------------+-------------------+--------------------+--------------------+\n",
      "|40291b05-a9da-5fb...|  The Cat in the Hat|          Dr. Seuss|A mischievous cat...|[0.01772842184581...|\n",
      "|adc373dd-19f5-55b...|Where the Wild Th...|     Maurice Sendak|A young boy named...|[0.18736113349957...|\n",
      "|9cb9e3bf-86d0-5fd...|  Green Eggs and Ham|          Dr. Seuss|A character named...|[0.95506783539131...|\n",
      "|8f39aadf-c249-563...|      Curious George|           H.A. Rey|A curious monkey ...|[0.02401788748345...|\n",
      "|584aa8cd-5b1f-581...|      Goodnight Moon|Margaret Wise Brown|A bedtime story t...|[0.66434099099570...|\n",
      "+--------------------+--------------------+-------------------+--------------------+--------------------+\n",
      "\n"
     ]
    }
   ],
   "source": [
    "# Define a list of kids book titles\n",
    "titles = [\n",
    "    \"The Cat in the Hat\",\n",
    "    \"Where the Wild Things Are\",\n",
    "    \"Green Eggs and Ham\",\n",
    "    \"Curious George\",\n",
    "    \"Goodnight Moon\",\n",
    "]\n",
    "\n",
    "# Define a list of kids book authors\n",
    "authors = [\n",
    "    \"Dr. Seuss\",\n",
    "    \"Maurice Sendak\",\n",
    "    \"Dr. Seuss\",\n",
    "    \"H.A. Rey\",\n",
    "    \"Margaret Wise Brown\",\n",
    "]\n",
    "\n",
    "# Define a list of kids book descriptions\n",
    "descriptions = [\n",
    "    \"A mischievous cat in a tall hat\",\n",
    "    \"A young boy named Max who sails to an island inhabited by strange creatures\",\n",
    "    \"A character named Sam-I-Am who tries to convince another character to try green eggs and ham\",\n",
    "    \"A curious monkey who gets into all sorts of trouble\",\n",
    "    \"A bedtime story that features a great green room\",\n",
    "]\n",
    "\n",
    "\n",
    "# Create a Pandas DataFrame with random data\n",
    "df = pd.DataFrame(\n",
    "    {\n",
    "        \"id\": pd.Series(\n",
    "            [\n",
    "                str(uuid.uuid5(uuid.NAMESPACE_DNS, \"\".join(item)))\n",
    "                for item in zip(titles, authors, descriptions)\n",
    "            ]\n",
    "        ),\n",
    "        \"title\": pd.Series(titles),\n",
    "        \"author\": pd.Series(authors),\n",
    "        \"description\": pd.Series(descriptions),\n",
    "        \"vector\": pd.Series([np.random.rand(2).tolist() for _ in range(5)]),\n",
    "    }\n",
    ")\n",
    "\n",
    "# Convert the Pandas DataFrame to PySpark DataFrame\n",
    "df = spark.createDataFrame(df)\n",
    "\n",
    "# # Show the PySpark DataFrame\n",
    "df.show()"
   ]
  },
  {
   "attachments": {},
   "cell_type": "markdown",
   "metadata": {},
   "source": [
    "Create the schema in weaviate:"
   ]
  },
  {
   "cell_type": "code",
   "execution_count": 5,
   "metadata": {},
   "outputs": [],
   "source": [
    "schema = {\n",
    "    \"class\": \"Book\",\n",
    "    \"properties\": [\n",
    "        {\"name\": \"title\", \"dataType\": [\"text\"]},\n",
    "        {\"name\": \"author\", \"dataType\": [\"text\"]},\n",
    "        {\"name\": \"description\", \"dataType\": [\"text\"]},\n",
    "    ],\n",
    "}\n",
    "\n",
    "client.schema.create_class(schema)"
   ]
  },
  {
   "cell_type": "markdown",
   "metadata": {},
   "source": [
    "Write the dataframe to weaviate:"
   ]
  },
  {
   "cell_type": "code",
   "execution_count": 6,
   "metadata": {},
   "outputs": [],
   "source": [
    "df.withColumnRenamed(\"id\", \"uuid\").write.format(\"io.weaviate.spark.Weaviate\").option(\n",
    "    \"batchSize\", 200\n",
    ").option(\"scheme\", \"http\").option(\"host\", \"weaviate:8080\").option(\"id\", \"uuid\").option(\n",
    "    \"className\", \"Book\"\n",
    ").option(\n",
    "    \"vector\", \"vector\"\n",
    ").mode(\n",
    "    \"append\"\n",
    ").save()"
   ]
  },
  {
   "attachments": {},
   "cell_type": "markdown",
   "metadata": {},
   "source": [
    "Check content in weaviate:"
   ]
  },
  {
   "cell_type": "code",
   "execution_count": 7,
   "metadata": {},
   "outputs": [
    {
     "data": {
      "text/plain": [
       "{'deprecations': [],\n",
       " 'objects': [{'class': 'Book',\n",
       "   'creationTimeUnix': 1691767469657,\n",
       "   'id': '40291b05-a9da-5fb2-90a8-951f49d1dc40',\n",
       "   'lastUpdateTimeUnix': 1691767469657,\n",
       "   'properties': {'author': 'Dr. Seuss',\n",
       "    'description': 'A mischievous cat in a tall hat',\n",
       "    'title': 'The Cat in the Hat'},\n",
       "   'vector': [0.017728422, 0.33793798],\n",
       "   'vectorWeights': None},\n",
       "  {'class': 'Book',\n",
       "   'creationTimeUnix': 1691767469657,\n",
       "   'id': '584aa8cd-5b1f-5814-b98c-144cde544ac6',\n",
       "   'lastUpdateTimeUnix': 1691767469657,\n",
       "   'properties': {'author': 'Margaret Wise Brown',\n",
       "    'description': 'A bedtime story that features a great green room',\n",
       "    'title': 'Goodnight Moon'},\n",
       "   'vector': [0.664341, 0.95618093],\n",
       "   'vectorWeights': None},\n",
       "  {'class': 'Book',\n",
       "   'creationTimeUnix': 1691767469657,\n",
       "   'id': '8f39aadf-c249-563e-953e-f2677496333d',\n",
       "   'lastUpdateTimeUnix': 1691767469657,\n",
       "   'properties': {'author': 'H.A. Rey',\n",
       "    'description': 'A curious monkey who gets into all sorts of trouble',\n",
       "    'title': 'Curious George'},\n",
       "   'vector': [0.024017887, 0.52011293],\n",
       "   'vectorWeights': None},\n",
       "  {'class': 'Book',\n",
       "   'creationTimeUnix': 1691767469657,\n",
       "   'id': '9cb9e3bf-86d0-5fde-845f-2dc4bb5e29c2',\n",
       "   'lastUpdateTimeUnix': 1691767469657,\n",
       "   'properties': {'author': 'Dr. Seuss',\n",
       "    'description': 'A character named Sam-I-Am who tries to convince another character to try green eggs and ham',\n",
       "    'title': 'Green Eggs and Ham'},\n",
       "   'vector': [0.9550678, 0.7857846],\n",
       "   'vectorWeights': None},\n",
       "  {'class': 'Book',\n",
       "   'creationTimeUnix': 1691767469657,\n",
       "   'id': 'adc373dd-19f5-55bb-aeae-c76fdd25ece9',\n",
       "   'lastUpdateTimeUnix': 1691767469657,\n",
       "   'properties': {'author': 'Maurice Sendak',\n",
       "    'description': 'A young boy named Max who sails to an island inhabited by strange creatures',\n",
       "    'title': 'Where the Wild Things Are'},\n",
       "   'vector': [0.18736114, 0.99397963],\n",
       "   'vectorWeights': None}],\n",
       " 'totalResults': 5}"
      ]
     },
     "execution_count": 7,
     "metadata": {},
     "output_type": "execute_result"
    }
   ],
   "source": [
    "client.data_object.get(class_name=\"Book\", with_vector=True)"
   ]
  }
 ],
 "metadata": {
  "kernelspec": {
   "display_name": "Python 3",
   "language": "python",
   "name": "python3"
  },
  "language_info": {
   "codemirror_mode": {
    "name": "ipython",
    "version": 3
   },
   "file_extension": ".py",
   "mimetype": "text/x-python",
   "name": "python",
   "nbconvert_exporter": "python",
   "pygments_lexer": "ipython3",
   "version": "3.11.1"
  },
  "orig_nbformat": 4
 },
 "nbformat": 4,
 "nbformat_minor": 2
}
